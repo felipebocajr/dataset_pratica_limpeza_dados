{
 "cells": [
  {
   "cell_type": "code",
   "execution_count": 69,
   "id": "760724d4",
   "metadata": {},
   "outputs": [],
   "source": [
    "import pandas as pd"
   ]
  },
  {
   "cell_type": "code",
   "execution_count": 70,
   "id": "154e16cb",
   "metadata": {},
   "outputs": [],
   "source": [
    "dados = pd.read_csv('..\\..\\Dados\\Raw\\dataset_pratica_limpeza_dados.csv')"
   ]
  },
  {
   "cell_type": "code",
   "execution_count": 71,
   "id": "c528b291",
   "metadata": {},
   "outputs": [
    {
     "data": {
      "text/html": [
       "<div>\n",
       "<style scoped>\n",
       "    .dataframe tbody tr th:only-of-type {\n",
       "        vertical-align: middle;\n",
       "    }\n",
       "\n",
       "    .dataframe tbody tr th {\n",
       "        vertical-align: top;\n",
       "    }\n",
       "\n",
       "    .dataframe thead th {\n",
       "        text-align: right;\n",
       "    }\n",
       "</style>\n",
       "<table border=\"1\" class=\"dataframe\">\n",
       "  <thead>\n",
       "    <tr style=\"text-align: right;\">\n",
       "      <th></th>\n",
       "      <th>ID Cliente</th>\n",
       "      <th>NOME COMPLETO!</th>\n",
       "      <th>E-mail@Principal</th>\n",
       "      <th>idade</th>\n",
       "      <th>Data de Nascimento#</th>\n",
       "      <th>Telefone/Celular</th>\n",
       "      <th>CEP (Código)</th>\n",
       "      <th>Endereço &amp; Cidade</th>\n",
       "      <th>Estado-UF</th>\n",
       "      <th>Salário (R$)</th>\n",
       "      <th>Status_da_Conta</th>\n",
       "      <th>Score de Crédito%</th>\n",
       "      <th>Produto Favorito*</th>\n",
       "      <th>Data da Última Compra</th>\n",
       "      <th>Valor Total Gasto</th>\n",
       "      <th>Categoria-Cliente</th>\n",
       "      <th>Unnamed: 16</th>\n",
       "      <th>Obs: Comentários</th>\n",
       "      <th>Ativo? (S/N)</th>\n",
       "      <th>Regional/Zona</th>\n",
       "    </tr>\n",
       "  </thead>\n",
       "  <tbody>\n",
       "    <tr>\n",
       "      <th>0</th>\n",
       "      <td>1</td>\n",
       "      <td>Ana Silva</td>\n",
       "      <td>ana.silva@yahoo.com</td>\n",
       "      <td>56</td>\n",
       "      <td>Janeiro 1992</td>\n",
       "      <td>(85) 16400-0408</td>\n",
       "      <td>04397312</td>\n",
       "      <td>NaN</td>\n",
       "      <td>CE</td>\n",
       "      <td>Salário confidencial</td>\n",
       "      <td>Suspenso</td>\n",
       "      <td>852</td>\n",
       "      <td>Monitor</td>\n",
       "      <td>30/09/2024</td>\n",
       "      <td>4495.03</td>\n",
       "      <td>Ouro</td>\n",
       "      <td>NaN</td>\n",
       "      <td>NaN</td>\n",
       "      <td>Ativo</td>\n",
       "      <td>norte</td>\n",
       "    </tr>\n",
       "    <tr>\n",
       "      <th>1</th>\n",
       "      <td>2</td>\n",
       "      <td>Carla Souza</td>\n",
       "      <td>NaN</td>\n",
       "      <td>69</td>\n",
       "      <td>10/18/1950</td>\n",
       "      <td>31 87481-2231</td>\n",
       "      <td>123456</td>\n",
       "      <td>Rua Principal, 935 - Guarulhos</td>\n",
       "      <td>PA</td>\n",
       "      <td>Não informado</td>\n",
       "      <td>Ativo</td>\n",
       "      <td>517</td>\n",
       "      <td>Monitor</td>\n",
       "      <td>2024-09-13</td>\n",
       "      <td>6751.27</td>\n",
       "      <td>Diamante</td>\n",
       "      <td>NaN</td>\n",
       "      <td>NaN</td>\n",
       "      <td>S</td>\n",
       "      <td>centro-oeste</td>\n",
       "    </tr>\n",
       "    <tr>\n",
       "      <th>2</th>\n",
       "      <td>3</td>\n",
       "      <td>Ana Costa</td>\n",
       "      <td>ana.costa@hotmail.com</td>\n",
       "      <td>46</td>\n",
       "      <td>NaN</td>\n",
       "      <td>(11) 93064-3172</td>\n",
       "      <td>81093-112</td>\n",
       "      <td>Rua Central, 633 - Fortaleza</td>\n",
       "      <td>RJ</td>\n",
       "      <td>12030</td>\n",
       "      <td>A</td>\n",
       "      <td>428</td>\n",
       "      <td>TECLADO</td>\n",
       "      <td>03-13-2024</td>\n",
       "      <td>6900.93</td>\n",
       "      <td>Ouro</td>\n",
       "      <td>NaN</td>\n",
       "      <td>NaN</td>\n",
       "      <td>N</td>\n",
       "      <td>centro-oeste</td>\n",
       "    </tr>\n",
       "    <tr>\n",
       "      <th>3</th>\n",
       "      <td>4</td>\n",
       "      <td>Mariana Santos</td>\n",
       "      <td>mariana.santos@bol.com.br</td>\n",
       "      <td>32</td>\n",
       "      <td>06/08/1976</td>\n",
       "      <td>(11) 42963-8044</td>\n",
       "      <td>80681606</td>\n",
       "      <td>Rua Principal, 630 - Brasília</td>\n",
       "      <td>RS</td>\n",
       "      <td>12038</td>\n",
       "      <td>Inativo</td>\n",
       "      <td>662</td>\n",
       "      <td>Notebook</td>\n",
       "      <td>04-06-2024</td>\n",
       "      <td>3743.36</td>\n",
       "      <td>Platina</td>\n",
       "      <td>NaN</td>\n",
       "      <td>NaN</td>\n",
       "      <td>N</td>\n",
       "      <td>Centro</td>\n",
       "    </tr>\n",
       "    <tr>\n",
       "      <th>4</th>\n",
       "      <td>5</td>\n",
       "      <td>MARIA silva</td>\n",
       "      <td>maria.silva@hotmail.com</td>\n",
       "      <td>60</td>\n",
       "      <td>03/19/2001</td>\n",
       "      <td>11 60767-0256</td>\n",
       "      <td>34867-654</td>\n",
       "      <td>Rua da Paz, 673 - Fortaleza</td>\n",
       "      <td>BA</td>\n",
       "      <td>14659</td>\n",
       "      <td>Bloqueado</td>\n",
       "      <td>375</td>\n",
       "      <td>CAMERA</td>\n",
       "      <td>01-27-2024</td>\n",
       "      <td>9077.3</td>\n",
       "      <td>Ouro</td>\n",
       "      <td>NaN</td>\n",
       "      <td>NaN</td>\n",
       "      <td>N</td>\n",
       "      <td>Centro</td>\n",
       "    </tr>\n",
       "  </tbody>\n",
       "</table>\n",
       "</div>"
      ],
      "text/plain": [
       "     ID Cliente    NOME COMPLETO!             E-mail@Principal  idade   \\\n",
       "0               1       Ana Silva          ana.silva@yahoo.com      56   \n",
       "1               2     Carla Souza                          NaN      69   \n",
       "2               3       Ana Costa        ana.costa@hotmail.com      46   \n",
       "3               4  Mariana Santos    mariana.santos@bol.com.br      32   \n",
       "4               5     MARIA silva    maria.silva@hotmail.com        60   \n",
       "\n",
       "  Data de Nascimento# Telefone/Celular CEP (Código)  \\\n",
       "0        Janeiro 1992  (85) 16400-0408     04397312   \n",
       "1          10/18/1950    31 87481-2231       123456   \n",
       "2                 NaN  (11) 93064-3172    81093-112   \n",
       "3          06/08/1976  (11) 42963-8044     80681606   \n",
       "4          03/19/2001    11 60767-0256    34867-654   \n",
       "\n",
       "                Endereço & Cidade Estado-UF          Salário (R$)  \\\n",
       "0                             NaN        CE  Salário confidencial   \n",
       "1  Rua Principal, 935 - Guarulhos        PA         Não informado   \n",
       "2    Rua Central, 633 - Fortaleza        RJ                 12030   \n",
       "3   Rua Principal, 630 - Brasília        RS                 12038   \n",
       "4     Rua da Paz, 673 - Fortaleza        BA                 14659   \n",
       "\n",
       "  Status_da_Conta Score de Crédito% Produto Favorito* Data da Última Compra  \\\n",
       "0        Suspenso               852           Monitor            30/09/2024   \n",
       "1           Ativo               517           Monitor            2024-09-13   \n",
       "2               A               428           TECLADO            03-13-2024   \n",
       "3         Inativo               662          Notebook            04-06-2024   \n",
       "4       Bloqueado               375            CAMERA            01-27-2024   \n",
       "\n",
       "  Valor Total Gasto Categoria-Cliente  Unnamed: 16 Obs: Comentários  \\\n",
       "0           4495.03              Ouro          NaN              NaN   \n",
       "1           6751.27          Diamante          NaN              NaN   \n",
       "2           6900.93              Ouro          NaN              NaN   \n",
       "3           3743.36           Platina          NaN              NaN   \n",
       "4            9077.3              Ouro          NaN              NaN   \n",
       "\n",
       "  Ativo? (S/N) Regional/Zona  \n",
       "0        Ativo         norte  \n",
       "1            S  centro-oeste  \n",
       "2            N  centro-oeste  \n",
       "3            N        Centro  \n",
       "4            N        Centro  "
      ]
     },
     "execution_count": 71,
     "metadata": {},
     "output_type": "execute_result"
    }
   ],
   "source": [
    "dados.head()"
   ]
  },
  {
   "cell_type": "code",
   "execution_count": 72,
   "id": "72beac70",
   "metadata": {},
   "outputs": [
    {
     "data": {
      "text/html": [
       "<div>\n",
       "<style scoped>\n",
       "    .dataframe tbody tr th:only-of-type {\n",
       "        vertical-align: middle;\n",
       "    }\n",
       "\n",
       "    .dataframe tbody tr th {\n",
       "        vertical-align: top;\n",
       "    }\n",
       "\n",
       "    .dataframe thead th {\n",
       "        text-align: right;\n",
       "    }\n",
       "</style>\n",
       "<table border=\"1\" class=\"dataframe\">\n",
       "  <thead>\n",
       "    <tr style=\"text-align: right;\">\n",
       "      <th></th>\n",
       "      <th>ID Cliente</th>\n",
       "      <th>Unnamed: 16</th>\n",
       "    </tr>\n",
       "  </thead>\n",
       "  <tbody>\n",
       "    <tr>\n",
       "      <th>count</th>\n",
       "      <td>52500.000000</td>\n",
       "      <td>0.0</td>\n",
       "    </tr>\n",
       "    <tr>\n",
       "      <th>mean</th>\n",
       "      <td>24995.334610</td>\n",
       "      <td>NaN</td>\n",
       "    </tr>\n",
       "    <tr>\n",
       "      <th>std</th>\n",
       "      <td>14418.824423</td>\n",
       "      <td>NaN</td>\n",
       "    </tr>\n",
       "    <tr>\n",
       "      <th>min</th>\n",
       "      <td>1.000000</td>\n",
       "      <td>NaN</td>\n",
       "    </tr>\n",
       "    <tr>\n",
       "      <th>25%</th>\n",
       "      <td>12514.750000</td>\n",
       "      <td>NaN</td>\n",
       "    </tr>\n",
       "    <tr>\n",
       "      <th>50%</th>\n",
       "      <td>24981.500000</td>\n",
       "      <td>NaN</td>\n",
       "    </tr>\n",
       "    <tr>\n",
       "      <th>75%</th>\n",
       "      <td>37470.250000</td>\n",
       "      <td>NaN</td>\n",
       "    </tr>\n",
       "    <tr>\n",
       "      <th>max</th>\n",
       "      <td>50000.000000</td>\n",
       "      <td>NaN</td>\n",
       "    </tr>\n",
       "  </tbody>\n",
       "</table>\n",
       "</div>"
      ],
      "text/plain": [
       "         ID Cliente    Unnamed: 16\n",
       "count    52500.000000          0.0\n",
       "mean     24995.334610          NaN\n",
       "std      14418.824423          NaN\n",
       "min          1.000000          NaN\n",
       "25%      12514.750000          NaN\n",
       "50%      24981.500000          NaN\n",
       "75%      37470.250000          NaN\n",
       "max      50000.000000          NaN"
      ]
     },
     "execution_count": 72,
     "metadata": {},
     "output_type": "execute_result"
    }
   ],
   "source": [
    "dados.describe()"
   ]
  },
  {
   "cell_type": "code",
   "execution_count": 73,
   "id": "01fec421",
   "metadata": {},
   "outputs": [
    {
     "name": "stdout",
     "output_type": "stream",
     "text": [
      "  ID Cliente               int64\n",
      "NOME COMPLETO!            object\n",
      "E-mail@Principal          object\n",
      " idade                    object\n",
      "Data de Nascimento#       object\n",
      "Telefone/Celular          object\n",
      "CEP (Código)              object\n",
      "Endereço & Cidade         object\n",
      "Estado-UF                 object\n",
      "Salário (R$)              object\n",
      "Status_da_Conta           object\n",
      "Score de Crédito%         object\n",
      "Produto Favorito*         object\n",
      "Data da Última Compra     object\n",
      "Valor Total Gasto         object\n",
      "Categoria-Cliente         object\n",
      "Unnamed: 16              float64\n",
      "Obs: Comentários          object\n",
      "Ativo? (S/N)              object\n",
      "Regional/Zona             object\n",
      "dtype: object\n"
     ]
    }
   ],
   "source": [
    "print(dados.dtypes)"
   ]
  },
  {
   "cell_type": "markdown",
   "id": "ed30b490",
   "metadata": {},
   "source": [
    "# Removendo colunas vazias"
   ]
  },
  {
   "cell_type": "code",
   "execution_count": null,
   "id": "b9eff45d",
   "metadata": {},
   "outputs": [],
   "source": []
  },
  {
   "cell_type": "code",
   "execution_count": 74,
   "id": "a63f783f",
   "metadata": {},
   "outputs": [],
   "source": [
    "threshhold = 0.8"
   ]
  },
  {
   "cell_type": "code",
   "execution_count": 75,
   "id": "4fd153c7",
   "metadata": {},
   "outputs": [
    {
     "data": {
      "text/plain": [
       "  ID Cliente                 0\n",
       "NOME COMPLETO!               0\n",
       "E-mail@Principal          7888\n",
       " idade                    2164\n",
       "Data de Nascimento#       2575\n",
       "Telefone/Celular          2097\n",
       "CEP (Código)              2163\n",
       "Endereço & Cidade         5220\n",
       "Estado-UF                 1402\n",
       "Salário (R$)              2073\n",
       "Status_da_Conta           1046\n",
       "Score de Crédito%         3039\n",
       "Produto Favorito*         6230\n",
       "Data da Última Compra     3346\n",
       "Valor Total Gasto         2105\n",
       "Categoria-Cliente         1162\n",
       "Unnamed: 16              52500\n",
       "Obs: Comentários         40034\n",
       "Ativo? (S/N)              1096\n",
       "Regional/Zona             2677\n",
       "dtype: int64"
      ]
     },
     "execution_count": 75,
     "metadata": {},
     "output_type": "execute_result"
    }
   ],
   "source": [
    "dados.isna().sum()"
   ]
  },
  {
   "cell_type": "code",
   "execution_count": 76,
   "id": "97dd426f",
   "metadata": {},
   "outputs": [],
   "source": [
    "dados = dados.dropna(axis=1, thresh=int(threshhold * len(dados)))"
   ]
  },
  {
   "cell_type": "code",
   "execution_count": 77,
   "id": "e7da2d1c",
   "metadata": {},
   "outputs": [
    {
     "data": {
      "text/plain": [
       "  ID Cliente                0\n",
       "NOME COMPLETO!              0\n",
       "E-mail@Principal         7888\n",
       " idade                   2164\n",
       "Data de Nascimento#      2575\n",
       "Telefone/Celular         2097\n",
       "CEP (Código)             2163\n",
       "Endereço & Cidade        5220\n",
       "Estado-UF                1402\n",
       "Salário (R$)             2073\n",
       "Status_da_Conta          1046\n",
       "Score de Crédito%        3039\n",
       "Produto Favorito*        6230\n",
       "Data da Última Compra    3346\n",
       "Valor Total Gasto        2105\n",
       "Categoria-Cliente        1162\n",
       "Ativo? (S/N)             1096\n",
       "Regional/Zona            2677\n",
       "dtype: int64"
      ]
     },
     "execution_count": 77,
     "metadata": {},
     "output_type": "execute_result"
    }
   ],
   "source": [
    "dados.isna().sum()"
   ]
  },
  {
   "cell_type": "markdown",
   "id": "3e5fba72",
   "metadata": {},
   "source": [
    "# Alterando nome das colunas"
   ]
  },
  {
   "cell_type": "code",
   "execution_count": 78,
   "id": "85b18c3f",
   "metadata": {},
   "outputs": [
    {
     "data": {
      "text/plain": [
       "Index(['  ID Cliente  ', 'NOME COMPLETO!', 'E-mail@Principal', ' idade ',\n",
       "       'Data de Nascimento#', 'Telefone/Celular', 'CEP (Código)',\n",
       "       'Endereço & Cidade', 'Estado-UF', 'Salário (R$)', 'Status_da_Conta',\n",
       "       'Score de Crédito%', 'Produto Favorito*', 'Data da Última Compra',\n",
       "       'Valor Total Gasto', 'Categoria-Cliente', 'Ativo? (S/N)',\n",
       "       'Regional/Zona'],\n",
       "      dtype='object')"
      ]
     },
     "execution_count": 78,
     "metadata": {},
     "output_type": "execute_result"
    }
   ],
   "source": [
    "dados.columns"
   ]
  },
  {
   "cell_type": "code",
   "execution_count": 79,
   "id": "867f3047",
   "metadata": {},
   "outputs": [],
   "source": [
    "dados = dados.rename(columns={\n",
    "    '  ID Cliente  ': 'id',\n",
    "    'NOME COMPLETO!': 'nome',\n",
    "    'E-mail@Principal': 'email',\n",
    "    ' idade ': 'idade',\n",
    "    'Data de Nascimento#': 'data_nascimento',\n",
    "    'Telefone/Celular': 'telefone',\n",
    "    'CEP (Código)': 'cep',\n",
    "    'Endereço & Cidade': 'endereco_cidade',\n",
    "    'Estado-UF': 'estado_uf',\n",
    "    'Salário (R$)': 'salario',\n",
    "    'Status_da_Conta': 'status_conta',\n",
    "    'Score de Crédito%': 'score_credito',\n",
    "    'Produto Favorito*': 'produto_favorito',\n",
    "    'Data da Última Compra': 'data_ultima_compra',\n",
    "    'Valor Total Gasto': 'valor_total_gasto',\n",
    "    'Categoria-Cliente': 'categoria_cliente',\n",
    "    'Unnamed: 16': 'coluna_vazia',\n",
    "    'Obs: Comentários': 'obs_comentarios',\n",
    "    'Ativo? (S/N)': 'ativo'\n",
    "})"
   ]
  },
  {
   "cell_type": "code",
   "execution_count": 80,
   "id": "2dd5aea6",
   "metadata": {},
   "outputs": [
    {
     "data": {
      "text/plain": [
       "Index(['id', 'nome', 'email', 'idade', 'data_nascimento', 'telefone', 'cep',\n",
       "       'endereco_cidade', 'estado_uf', 'salario', 'status_conta',\n",
       "       'score_credito', 'produto_favorito', 'data_ultima_compra',\n",
       "       'valor_total_gasto', 'categoria_cliente', 'ativo', 'Regional/Zona'],\n",
       "      dtype='object')"
      ]
     },
     "execution_count": 80,
     "metadata": {},
     "output_type": "execute_result"
    }
   ],
   "source": [
    "dados.columns"
   ]
  },
  {
   "cell_type": "markdown",
   "id": "7e590519",
   "metadata": {},
   "source": [
    "# Removendo duplicatas"
   ]
  },
  {
   "cell_type": "code",
   "execution_count": 81,
   "id": "e6958a2c",
   "metadata": {},
   "outputs": [
    {
     "data": {
      "text/plain": [
       "(52500, 18)"
      ]
     },
     "execution_count": 81,
     "metadata": {},
     "output_type": "execute_result"
    }
   ],
   "source": [
    "dados.shape"
   ]
  },
  {
   "cell_type": "code",
   "execution_count": 82,
   "id": "611287e9",
   "metadata": {},
   "outputs": [],
   "source": [
    "dados.drop_duplicates(inplace=True)"
   ]
  },
  {
   "cell_type": "code",
   "execution_count": 83,
   "id": "b7ca9ba2",
   "metadata": {},
   "outputs": [
    {
     "data": {
      "text/plain": [
       "(50000, 18)"
      ]
     },
     "execution_count": 83,
     "metadata": {},
     "output_type": "execute_result"
    }
   ],
   "source": [
    "dados.shape"
   ]
  },
  {
   "cell_type": "markdown",
   "id": "90c53da3",
   "metadata": {},
   "source": [
    "## Limpando id cliente"
   ]
  },
  {
   "cell_type": "code",
   "execution_count": 84,
   "id": "9dfcbab3",
   "metadata": {},
   "outputs": [
    {
     "data": {
      "text/plain": [
       "0"
      ]
     },
     "execution_count": 84,
     "metadata": {},
     "output_type": "execute_result"
    }
   ],
   "source": [
    "dados['id'].duplicated().sum()"
   ]
  },
  {
   "cell_type": "code",
   "execution_count": 85,
   "id": "22cb840e",
   "metadata": {},
   "outputs": [],
   "source": [
    "dados = dados.drop_duplicates(subset=['id'])"
   ]
  },
  {
   "cell_type": "code",
   "execution_count": 86,
   "id": "d9b7be98",
   "metadata": {},
   "outputs": [
    {
     "data": {
      "text/plain": [
       "0"
      ]
     },
     "execution_count": 86,
     "metadata": {},
     "output_type": "execute_result"
    }
   ],
   "source": [
    "dados['id'].duplicated().sum()"
   ]
  },
  {
   "cell_type": "markdown",
   "id": "3bb3d3fa",
   "metadata": {},
   "source": [
    "# Alterando tipos de dados"
   ]
  },
  {
   "cell_type": "markdown",
   "id": "e891da26",
   "metadata": {},
   "source": [
    "## Idade"
   ]
  },
  {
   "cell_type": "code",
   "execution_count": 87,
   "id": "6f7a5d27",
   "metadata": {},
   "outputs": [
    {
     "data": {
      "text/plain": [
       "array(['56', '69', '46', '32', '60', '25', '78', 'Não informado', '38',\n",
       "       '75', '36', '40', '28', '41', '70', '53', '57', nan, '20', '39',\n",
       "       '19', '61', '47', '55', '-5', '77', '50', '29', '42', 'idoso',\n",
       "       '66', '44', '76', '150', '59', '45', '33', '79', '64', '68', '72',\n",
       "       '74', '54', '24', '26', '35', '21', '31', '67', '43', '37',\n",
       "       '25 anos', '52', '34', '23', '71', '51', '27', '48', '65', '62',\n",
       "       '58', '18', '22', '30', '49', 'menor de idade', '73', '63'],\n",
       "      dtype=object)"
      ]
     },
     "execution_count": 87,
     "metadata": {},
     "output_type": "execute_result"
    }
   ],
   "source": [
    "dados['idade'].unique()"
   ]
  },
  {
   "cell_type": "code",
   "execution_count": 88,
   "id": "d413ff8e",
   "metadata": {},
   "outputs": [],
   "source": [
    "# Converte para numérico, removendo strings e valores inválidos\n",
    "dados['idade'] = pd.to_numeric(dados['idade'], errors='coerce')\n",
    "\n",
    "# Remove linhas onde o valor ficou NaN (ou seja, não era número)\n",
    "dados = dados.dropna(subset=['idade'])"
   ]
  },
  {
   "cell_type": "code",
   "execution_count": 89,
   "id": "90162450",
   "metadata": {},
   "outputs": [
    {
     "data": {
      "text/plain": [
       "array([ 56.,  69.,  46.,  32.,  60.,  25.,  78.,  38.,  75.,  36.,  40.,\n",
       "        28.,  41.,  70.,  53.,  57.,  20.,  39.,  19.,  61.,  47.,  55.,\n",
       "        -5.,  77.,  50.,  29.,  42.,  66.,  44.,  76., 150.,  59.,  45.,\n",
       "        33.,  79.,  64.,  68.,  72.,  74.,  54.,  24.,  26.,  35.,  21.,\n",
       "        31.,  67.,  43.,  37.,  52.,  34.,  23.,  71.,  51.,  27.,  48.,\n",
       "        65.,  62.,  58.,  18.,  22.,  30.,  49.,  73.,  63.])"
      ]
     },
     "execution_count": 89,
     "metadata": {},
     "output_type": "execute_result"
    }
   ],
   "source": [
    "dados['idade'].unique()"
   ]
  },
  {
   "cell_type": "markdown",
   "id": "8e9ee7bc",
   "metadata": {},
   "source": [
    "## Nome completo"
   ]
  },
  {
   "cell_type": "code",
   "execution_count": 90,
   "id": "15326dd9",
   "metadata": {},
   "outputs": [],
   "source": [
    "dados['nome'] = dados['nome'].str.lower()"
   ]
  },
  {
   "cell_type": "code",
   "execution_count": 91,
   "id": "dc40487f",
   "metadata": {},
   "outputs": [
    {
     "data": {
      "text/plain": [
       "<bound method Series.unique of 0             ana silva\n",
       "1           carla souza\n",
       "2             ana costa\n",
       "3        mariana santos\n",
       "4           maria silva\n",
       "              ...      \n",
       "49995     rafael santos\n",
       "49996      pedro santos\n",
       "49997       lucia souza\n",
       "49998     juliana silva\n",
       "49999      lucia santos\n",
       "Name: nome, Length: 45280, dtype: object>"
      ]
     },
     "execution_count": 91,
     "metadata": {},
     "output_type": "execute_result"
    }
   ],
   "source": [
    "dados['nome'].unique"
   ]
  },
  {
   "cell_type": "code",
   "execution_count": 92,
   "id": "6619c827",
   "metadata": {},
   "outputs": [],
   "source": [
    "mask = dados['nome'].str.contains(r\"[!@#$%¨&*\\(\\)_\\-\\+=\\{\\}\\[\\]/\\\\|;:'<>,\\.?~^`´]\", regex=True)"
   ]
  },
  {
   "cell_type": "code",
   "execution_count": 93,
   "id": "5a2b79aa",
   "metadata": {},
   "outputs": [
    {
     "data": {
      "text/html": [
       "<div>\n",
       "<style scoped>\n",
       "    .dataframe tbody tr th:only-of-type {\n",
       "        vertical-align: middle;\n",
       "    }\n",
       "\n",
       "    .dataframe tbody tr th {\n",
       "        vertical-align: top;\n",
       "    }\n",
       "\n",
       "    .dataframe thead th {\n",
       "        text-align: right;\n",
       "    }\n",
       "</style>\n",
       "<table border=\"1\" class=\"dataframe\">\n",
       "  <thead>\n",
       "    <tr style=\"text-align: right;\">\n",
       "      <th></th>\n",
       "      <th>id</th>\n",
       "      <th>nome</th>\n",
       "      <th>email</th>\n",
       "      <th>idade</th>\n",
       "      <th>data_nascimento</th>\n",
       "      <th>telefone</th>\n",
       "      <th>cep</th>\n",
       "      <th>endereco_cidade</th>\n",
       "      <th>estado_uf</th>\n",
       "      <th>salario</th>\n",
       "      <th>status_conta</th>\n",
       "      <th>score_credito</th>\n",
       "      <th>produto_favorito</th>\n",
       "      <th>data_ultima_compra</th>\n",
       "      <th>valor_total_gasto</th>\n",
       "      <th>categoria_cliente</th>\n",
       "      <th>ativo</th>\n",
       "      <th>Regional/Zona</th>\n",
       "    </tr>\n",
       "  </thead>\n",
       "  <tbody>\n",
       "    <tr>\n",
       "      <th>61</th>\n",
       "      <td>62</td>\n",
       "      <td>sr. pedro ferreira</td>\n",
       "      <td>sr..pedro.ferreira@hotmail.com</td>\n",
       "      <td>72.0</td>\n",
       "      <td>10/08/1962</td>\n",
       "      <td>11999999999</td>\n",
       "      <td>58169648</td>\n",
       "      <td>Rua da Paz, 176 - Fortaleza</td>\n",
       "      <td>GO</td>\n",
       "      <td>14092</td>\n",
       "      <td>Ativo</td>\n",
       "      <td>NaN</td>\n",
       "      <td>Smartwatch</td>\n",
       "      <td>NaN</td>\n",
       "      <td>NaN</td>\n",
       "      <td>Ouro</td>\n",
       "      <td>S</td>\n",
       "      <td>NaN</td>\n",
       "    </tr>\n",
       "    <tr>\n",
       "      <th>78</th>\n",
       "      <td>79</td>\n",
       "      <td>sr. mariana santos</td>\n",
       "      <td>sr..mariana.santos@uol.com.br</td>\n",
       "      <td>75.0</td>\n",
       "      <td>12/09/1986</td>\n",
       "      <td>11 47736-0103</td>\n",
       "      <td>14216774</td>\n",
       "      <td>Rua Central, 249 - Belo Horizonte</td>\n",
       "      <td>SP</td>\n",
       "      <td>4197</td>\n",
       "      <td>Suspenso</td>\n",
       "      <td>433</td>\n",
       "      <td>Monitor</td>\n",
       "      <td>03-04-2024</td>\n",
       "      <td>7714.69</td>\n",
       "      <td>Platina</td>\n",
       "      <td>S</td>\n",
       "      <td>norte</td>\n",
       "    </tr>\n",
       "    <tr>\n",
       "      <th>157</th>\n",
       "      <td>158</td>\n",
       "      <td>sr. lucia costa</td>\n",
       "      <td>sr..lucia.costa@uol.com.br</td>\n",
       "      <td>41.0</td>\n",
       "      <td>12/12/1957</td>\n",
       "      <td>(31) 82403-2255</td>\n",
       "      <td>62729278</td>\n",
       "      <td>Rua Principal, 943 - Manaus</td>\n",
       "      <td>SP</td>\n",
       "      <td>11989</td>\n",
       "      <td>Suspenso</td>\n",
       "      <td>513</td>\n",
       "      <td>Camera</td>\n",
       "      <td>NaN</td>\n",
       "      <td>2725.55</td>\n",
       "      <td>Ouro</td>\n",
       "      <td>S</td>\n",
       "      <td>Centro</td>\n",
       "    </tr>\n",
       "    <tr>\n",
       "      <th>491</th>\n",
       "      <td>492</td>\n",
       "      <td>sr. rafael gomes</td>\n",
       "      <td>sr..rafael.gomes@bol.com.br</td>\n",
       "      <td>63.0</td>\n",
       "      <td>01/03/1987</td>\n",
       "      <td>47948994908</td>\n",
       "      <td>56320-416</td>\n",
       "      <td>Rua da Paz, 923 - Salvador</td>\n",
       "      <td>AM</td>\n",
       "      <td>NaN</td>\n",
       "      <td>Inativo</td>\n",
       "      <td>542</td>\n",
       "      <td>Monitor</td>\n",
       "      <td>2024-12-07</td>\n",
       "      <td>8304.09</td>\n",
       "      <td>Diamante</td>\n",
       "      <td>S</td>\n",
       "      <td>Centro</td>\n",
       "    </tr>\n",
       "    <tr>\n",
       "      <th>556</th>\n",
       "      <td>557</td>\n",
       "      <td>sr. cristina lima</td>\n",
       "      <td>sr..cristina.lima@uol.com.br</td>\n",
       "      <td>48.0</td>\n",
       "      <td>09/10/1963</td>\n",
       "      <td>(21) 10679-8304</td>\n",
       "      <td>06446-610</td>\n",
       "      <td>NaN</td>\n",
       "      <td>PA</td>\n",
       "      <td>7682</td>\n",
       "      <td>Bloqueado</td>\n",
       "      <td>800</td>\n",
       "      <td>Mouse</td>\n",
       "      <td>07/07/2024</td>\n",
       "      <td>8677.15</td>\n",
       "      <td>Prata</td>\n",
       "      <td>S</td>\n",
       "      <td>Oeste</td>\n",
       "    </tr>\n",
       "    <tr>\n",
       "      <th>...</th>\n",
       "      <td>...</td>\n",
       "      <td>...</td>\n",
       "      <td>...</td>\n",
       "      <td>...</td>\n",
       "      <td>...</td>\n",
       "      <td>...</td>\n",
       "      <td>...</td>\n",
       "      <td>...</td>\n",
       "      <td>...</td>\n",
       "      <td>...</td>\n",
       "      <td>...</td>\n",
       "      <td>...</td>\n",
       "      <td>...</td>\n",
       "      <td>...</td>\n",
       "      <td>...</td>\n",
       "      <td>...</td>\n",
       "      <td>...</td>\n",
       "      <td>...</td>\n",
       "    </tr>\n",
       "    <tr>\n",
       "      <th>49392</th>\n",
       "      <td>49393</td>\n",
       "      <td>sr. joão ribeiro</td>\n",
       "      <td>sr..joão.ribeiro@uol.com.br</td>\n",
       "      <td>33.0</td>\n",
       "      <td>09/23/1954</td>\n",
       "      <td>(47) 81855-6915</td>\n",
       "      <td>03014-894</td>\n",
       "      <td>NaN</td>\n",
       "      <td>PA</td>\n",
       "      <td>11984</td>\n",
       "      <td>Inativo</td>\n",
       "      <td>NaN</td>\n",
       "      <td>Camera</td>\n",
       "      <td>28/04/2024</td>\n",
       "      <td>5284.87</td>\n",
       "      <td>Diamante</td>\n",
       "      <td>N</td>\n",
       "      <td>SUL</td>\n",
       "    </tr>\n",
       "    <tr>\n",
       "      <th>49413</th>\n",
       "      <td>49414</td>\n",
       "      <td>sr. mariana souza</td>\n",
       "      <td>sr..mariana.souza@yahoo.com</td>\n",
       "      <td>45.0</td>\n",
       "      <td>02/22/1951</td>\n",
       "      <td>31 59331-8208</td>\n",
       "      <td>53661-388</td>\n",
       "      <td>NaN</td>\n",
       "      <td>MG</td>\n",
       "      <td>2760</td>\n",
       "      <td>Suspenso</td>\n",
       "      <td>NaN</td>\n",
       "      <td>Fone de Ouvido</td>\n",
       "      <td>07-27-2024</td>\n",
       "      <td>1656.18</td>\n",
       "      <td>Bronze</td>\n",
       "      <td>S</td>\n",
       "      <td>centro-oeste</td>\n",
       "    </tr>\n",
       "    <tr>\n",
       "      <th>49680</th>\n",
       "      <td>49681</td>\n",
       "      <td>sr. andré rodrigues</td>\n",
       "      <td>sr..andré.rodrigues@bol.com.br</td>\n",
       "      <td>76.0</td>\n",
       "      <td>03/22/2003</td>\n",
       "      <td>47 38621-6129</td>\n",
       "      <td>24998869</td>\n",
       "      <td>NaN</td>\n",
       "      <td>CE</td>\n",
       "      <td>3687</td>\n",
       "      <td>Inativo</td>\n",
       "      <td>Alto</td>\n",
       "      <td>Camera</td>\n",
       "      <td>08-30-2024</td>\n",
       "      <td>8357.2</td>\n",
       "      <td>Ouro</td>\n",
       "      <td>N</td>\n",
       "      <td>centro-oeste</td>\n",
       "    </tr>\n",
       "    <tr>\n",
       "      <th>49745</th>\n",
       "      <td>49746</td>\n",
       "      <td>sr. claudia silva</td>\n",
       "      <td>sr..claudia.silva@yahoo.com</td>\n",
       "      <td>43.0</td>\n",
       "      <td>05/20/1985</td>\n",
       "      <td>(31) 71375-4016</td>\n",
       "      <td>30724-545</td>\n",
       "      <td>NaN</td>\n",
       "      <td>SP</td>\n",
       "      <td>13319</td>\n",
       "      <td>Inativo</td>\n",
       "      <td>342</td>\n",
       "      <td>Notebook</td>\n",
       "      <td>2024-10-27</td>\n",
       "      <td>5863.46</td>\n",
       "      <td>Prata</td>\n",
       "      <td>N</td>\n",
       "      <td>Leste</td>\n",
       "    </tr>\n",
       "    <tr>\n",
       "      <th>49961</th>\n",
       "      <td>49962</td>\n",
       "      <td>sr. paulo santos</td>\n",
       "      <td>espacos@email.com</td>\n",
       "      <td>18.0</td>\n",
       "      <td>02/20/1978</td>\n",
       "      <td>31 47824-0836</td>\n",
       "      <td>54496142</td>\n",
       "      <td>Rua Central, 499 - Fortaleza</td>\n",
       "      <td>PR</td>\n",
       "      <td>10738</td>\n",
       "      <td>Suspenso</td>\n",
       "      <td>547</td>\n",
       "      <td>Tablet</td>\n",
       "      <td>17/01/2024</td>\n",
       "      <td>5232.36</td>\n",
       "      <td>NaN</td>\n",
       "      <td>1</td>\n",
       "      <td>centro-oeste</td>\n",
       "    </tr>\n",
       "  </tbody>\n",
       "</table>\n",
       "<p>698 rows × 18 columns</p>\n",
       "</div>"
      ],
      "text/plain": [
       "          id                 nome                            email  idade  \\\n",
       "61        62   sr. pedro ferreira   sr..pedro.ferreira@hotmail.com   72.0   \n",
       "78        79   sr. mariana santos    sr..mariana.santos@uol.com.br   75.0   \n",
       "157      158      sr. lucia costa       sr..lucia.costa@uol.com.br   41.0   \n",
       "491      492     sr. rafael gomes    sr..rafael.gomes@bol.com.br     63.0   \n",
       "556      557    sr. cristina lima     sr..cristina.lima@uol.com.br   48.0   \n",
       "...      ...                  ...                              ...    ...   \n",
       "49392  49393     sr. joão ribeiro      sr..joão.ribeiro@uol.com.br   33.0   \n",
       "49413  49414    sr. mariana souza    sr..mariana.souza@yahoo.com     45.0   \n",
       "49680  49681  sr. andré rodrigues   sr..andré.rodrigues@bol.com.br   76.0   \n",
       "49745  49746    sr. claudia silva      sr..claudia.silva@yahoo.com   43.0   \n",
       "49961  49962     sr. paulo santos              espacos@email.com     18.0   \n",
       "\n",
       "      data_nascimento         telefone        cep  \\\n",
       "61         10/08/1962      11999999999   58169648   \n",
       "78         12/09/1986    11 47736-0103   14216774   \n",
       "157        12/12/1957  (31) 82403-2255   62729278   \n",
       "491        01/03/1987      47948994908  56320-416   \n",
       "556        09/10/1963  (21) 10679-8304  06446-610   \n",
       "...               ...              ...        ...   \n",
       "49392      09/23/1954  (47) 81855-6915  03014-894   \n",
       "49413      02/22/1951    31 59331-8208  53661-388   \n",
       "49680      03/22/2003    47 38621-6129   24998869   \n",
       "49745      05/20/1985  (31) 71375-4016  30724-545   \n",
       "49961      02/20/1978    31 47824-0836   54496142   \n",
       "\n",
       "                         endereco_cidade estado_uf salario status_conta  \\\n",
       "61           Rua da Paz, 176 - Fortaleza        GO   14092        Ativo   \n",
       "78     Rua Central, 249 - Belo Horizonte        SP    4197     Suspenso   \n",
       "157          Rua Principal, 943 - Manaus        SP   11989     Suspenso   \n",
       "491           Rua da Paz, 923 - Salvador        AM     NaN      Inativo   \n",
       "556                                  NaN        PA    7682    Bloqueado   \n",
       "...                                  ...       ...     ...          ...   \n",
       "49392                                NaN        PA   11984      Inativo   \n",
       "49413                                NaN        MG    2760     Suspenso   \n",
       "49680                                NaN        CE    3687      Inativo   \n",
       "49745                                NaN        SP   13319      Inativo   \n",
       "49961       Rua Central, 499 - Fortaleza        PR   10738     Suspenso   \n",
       "\n",
       "      score_credito produto_favorito data_ultima_compra valor_total_gasto  \\\n",
       "61              NaN       Smartwatch                NaN               NaN   \n",
       "78              433          Monitor         03-04-2024           7714.69   \n",
       "157             513           Camera                NaN           2725.55   \n",
       "491             542          Monitor         2024-12-07           8304.09   \n",
       "556             800            Mouse         07/07/2024           8677.15   \n",
       "...             ...              ...                ...               ...   \n",
       "49392           NaN           Camera         28/04/2024           5284.87   \n",
       "49413           NaN   Fone de Ouvido         07-27-2024           1656.18   \n",
       "49680          Alto           Camera         08-30-2024            8357.2   \n",
       "49745           342         Notebook         2024-10-27           5863.46   \n",
       "49961           547         Tablet           17/01/2024           5232.36   \n",
       "\n",
       "      categoria_cliente ativo Regional/Zona  \n",
       "61                 Ouro     S           NaN  \n",
       "78              Platina     S         norte  \n",
       "157                Ouro     S        Centro  \n",
       "491            Diamante     S        Centro  \n",
       "556               Prata     S         Oeste  \n",
       "...                 ...   ...           ...  \n",
       "49392          Diamante     N           SUL  \n",
       "49413            Bronze     S  centro-oeste  \n",
       "49680              Ouro     N  centro-oeste  \n",
       "49745             Prata     N         Leste  \n",
       "49961               NaN     1  centro-oeste  \n",
       "\n",
       "[698 rows x 18 columns]"
      ]
     },
     "execution_count": 93,
     "metadata": {},
     "output_type": "execute_result"
    }
   ],
   "source": [
    "dados[mask]"
   ]
  },
  {
   "cell_type": "code",
   "execution_count": 94,
   "id": "e8b6fbdb",
   "metadata": {},
   "outputs": [],
   "source": [
    "dados = dados[~mask]"
   ]
  },
  {
   "cell_type": "code",
   "execution_count": 95,
   "id": "82ffdd97",
   "metadata": {},
   "outputs": [
    {
     "data": {
      "text/plain": [
       "<bound method Series.unique of 0             ana silva\n",
       "1           carla souza\n",
       "2             ana costa\n",
       "3        mariana santos\n",
       "4           maria silva\n",
       "              ...      \n",
       "49995     rafael santos\n",
       "49996      pedro santos\n",
       "49997       lucia souza\n",
       "49998     juliana silva\n",
       "49999      lucia santos\n",
       "Name: nome, Length: 44582, dtype: object>"
      ]
     },
     "execution_count": 95,
     "metadata": {},
     "output_type": "execute_result"
    }
   ],
   "source": [
    "dados['nome'].unique"
   ]
  },
  {
   "cell_type": "markdown",
   "id": "1909bbc9",
   "metadata": {},
   "source": [
    "## Email"
   ]
  },
  {
   "cell_type": "code",
   "execution_count": 96,
   "id": "6a188fbb",
   "metadata": {},
   "outputs": [
    {
     "data": {
      "text/plain": [
       "0              ana.silva@yahoo.com\n",
       "1                              NaN\n",
       "2            ana.costa@hotmail.com\n",
       "3        mariana.santos@bol.com.br\n",
       "4          maria.silva@hotmail.com\n",
       "                   ...            \n",
       "49995                          NaN\n",
       "49996       pedro.santos@gmail.com\n",
       "49997        lucia.souza@yahoo.com\n",
       "49998      juliana.silva@yahoo.com\n",
       "49999     lucia.santos@hotmail.com\n",
       "Name: email, Length: 44582, dtype: object"
      ]
     },
     "execution_count": 96,
     "metadata": {},
     "output_type": "execute_result"
    }
   ],
   "source": [
    "dados['email'].str.strip()"
   ]
  },
  {
   "cell_type": "code",
   "execution_count": 97,
   "id": "acf62e50",
   "metadata": {},
   "outputs": [
    {
     "data": {
      "text/plain": [
       "0        False\n",
       "1         True\n",
       "2        False\n",
       "3        False\n",
       "4        False\n",
       "         ...  \n",
       "49995     True\n",
       "49996    False\n",
       "49997    False\n",
       "49998    False\n",
       "49999    False\n",
       "Name: email, Length: 44582, dtype: bool"
      ]
     },
     "execution_count": 97,
     "metadata": {},
     "output_type": "execute_result"
    }
   ],
   "source": [
    "dados['email'].isnull()"
   ]
  },
  {
   "cell_type": "markdown",
   "id": "e8b6efe1",
   "metadata": {},
   "source": [
    "## Data de nascimento"
   ]
  },
  {
   "cell_type": "code",
   "execution_count": 102,
   "id": "42490c3a",
   "metadata": {},
   "outputs": [],
   "source": [
    "dados['data_nascimento'] = pd.to_datetime(dados['data_nascimento'], errors='coerce')"
   ]
  },
  {
   "cell_type": "code",
   "execution_count": 103,
   "id": "806ad08e",
   "metadata": {},
   "outputs": [
    {
     "data": {
      "text/plain": [
       "<bound method Series.unique of 0              NaT\n",
       "1       1950-10-18\n",
       "2              NaT\n",
       "3       1976-06-08\n",
       "4       2001-03-19\n",
       "           ...    \n",
       "49995   1990-02-15\n",
       "49996          NaT\n",
       "49997          NaT\n",
       "49998   1980-05-25\n",
       "49999   1994-11-16\n",
       "Name: data_nascimento, Length: 44582, dtype: datetime64[ns]>"
      ]
     },
     "execution_count": 103,
     "metadata": {},
     "output_type": "execute_result"
    }
   ],
   "source": [
    "dados['data_nascimento'].unique"
   ]
  },
  {
   "cell_type": "code",
   "execution_count": null,
   "id": "1e49c3b8",
   "metadata": {},
   "outputs": [],
   "source": []
  },
  {
   "cell_type": "code",
   "execution_count": null,
   "id": "1ebbfbde",
   "metadata": {},
   "outputs": [],
   "source": []
  }
 ],
 "metadata": {
  "kernelspec": {
   "display_name": "Python 3",
   "language": "python",
   "name": "python3"
  },
  "language_info": {
   "codemirror_mode": {
    "name": "ipython",
    "version": 3
   },
   "file_extension": ".py",
   "mimetype": "text/x-python",
   "name": "python",
   "nbconvert_exporter": "python",
   "pygments_lexer": "ipython3",
   "version": "3.11.9"
  }
 },
 "nbformat": 4,
 "nbformat_minor": 5
}
